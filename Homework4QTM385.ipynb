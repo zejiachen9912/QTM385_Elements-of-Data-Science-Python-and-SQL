{
 "cells": [
  {
   "cell_type": "markdown",
   "metadata": {},
   "source": [
    "# QTM 385\n",
    "\n",
    "***\n",
    "\n",
    "## Homework 4\n",
    "\n",
    "Student: [Zejia Chen]"
   ]
  },
  {
   "cell_type": "markdown",
   "metadata": {},
   "source": [
    "In this homework, we will create an object called Student, that is useful for a professor to store information about a student."
   ]
  },
  {
   "cell_type": "markdown",
   "metadata": {},
   "source": [
    "\n",
    "***\n",
    "\n",
    "### Question 1\n",
    "\n",
    "Create a class Student, that has:\n",
    "\n",
    "0. Id number (5-digits integer, starting with 1)\n",
    "1. First Name (str)\n",
    "2. Last Name (str)\n",
    "3. Grades (list of floats)\n",
    "4. Credits (list of integers)\n",
    "5. Major (str)\n",
    "\n",
    "Provide a constructor for your class and create one fictitious student."
   ]
  },
  {
   "cell_type": "code",
   "execution_count": 1,
   "metadata": {},
   "outputs": [],
   "source": [
    "# Your answer here\n",
    "class Student:\n",
    "    def __init__(self, id_num, firstName, lastName, grade, credit, major):\n",
    "        self.id_num = id_num\n",
    "        self.firstName = firstName\n",
    "        self.lastName = lastName\n",
    "        self.grade = grade\n",
    "        self.credit = credit\n",
    "        self.major = major"
   ]
  },
  {
   "cell_type": "code",
   "execution_count": 2,
   "metadata": {},
   "outputs": [],
   "source": [
    "stu = Student(12345, 'Harry', 'Chen', [93, 97, 89], [3, 4, 3], 'Quantitatice Science')"
   ]
  },
  {
   "cell_type": "code",
   "execution_count": 4,
   "metadata": {},
   "outputs": [
    {
     "name": "stdout",
     "output_type": "stream",
     "text": [
      "Harry\n",
      "Chen\n"
     ]
    }
   ],
   "source": [
    "print(stu.firstName)\n",
    "print(stu.lastName)"
   ]
  },
  {
   "cell_type": "markdown",
   "metadata": {},
   "source": [
    "\n",
    "***\n",
    "\n",
    "### Question 2\n",
    "\n",
    "Create a method to nicely display the student when we type `print`. It should display, for example:\n",
    "\n",
    "```\n",
    "Student:\n",
    "    Id: 12345\n",
    "    Name: Mig, Umberto\n",
    "    Major: QSS\n",
    "```\n",
    "\n",
    "Create a method that, when a variable storing a student is typed in the console, displays:\n",
    "\n",
    "```\n",
    "Student(Mig, Umberto; 12345)\n",
    "```\n",
    "\n",
    "Provide some testing with a fictitious result of your choice."
   ]
  },
  {
   "cell_type": "code",
   "execution_count": 14,
   "metadata": {},
   "outputs": [],
   "source": [
    "# Your answer here\n",
    "\n",
    "class Student:\n",
    "    def __init__(self, id_num, firstName, lastName, grade, credit, major):\n",
    "        self.id_num = id_num\n",
    "        self.firstName = firstName\n",
    "        self.lastName = lastName\n",
    "        self.grade = grade\n",
    "        self.credit = credit\n",
    "        self.major = major\n",
    "    def __str__(self):        \n",
    "        string = \"\"\"\n",
    "Student:\n",
    "    Id: {a}\n",
    "    Name: {b}, {c}\n",
    "    Major: {d}\"\"\".format(a = self.id_num, b = self.firstName, c = self.lastName, d = self.major)\n",
    "        return string\n",
    "    \n",
    "    def __repr__(self):\n",
    "        \n",
    "        return 'Student(' + self.firstName + \", \" + self.lastName + \", \" + str(self.id_num) + ')'"
   ]
  },
  {
   "cell_type": "code",
   "execution_count": 15,
   "metadata": {},
   "outputs": [],
   "source": [
    "stu = Student(12345, 'Harry', 'Chen', [93, 97, 89], [3, 4, 3], 'Quantitatice Science')"
   ]
  },
  {
   "cell_type": "code",
   "execution_count": 8,
   "metadata": {},
   "outputs": [
    {
     "name": "stdout",
     "output_type": "stream",
     "text": [
      "\n",
      "Student:\n",
      "    Id: 2325406\n",
      "    Name: Harry, Chen\n",
      "    Major: Quantitatice Science\n"
     ]
    }
   ],
   "source": [
    "print(stu)"
   ]
  },
  {
   "cell_type": "code",
   "execution_count": 16,
   "metadata": {},
   "outputs": [
    {
     "data": {
      "text/plain": [
       "Student(Harry, Chen, 2325406)"
      ]
     },
     "execution_count": 16,
     "metadata": {},
     "output_type": "execute_result"
    }
   ],
   "source": [
    "stu"
   ]
  },
  {
   "cell_type": "markdown",
   "metadata": {},
   "source": [
    "\n",
    "***\n",
    "\n",
    "### Question 3\n",
    "\n",
    "Implement class methods for:\n",
    "\n",
    "1. Check if the id number is valid (remember: 5 digits, starting with number one)\n",
    "2. Check if the grades list has the same length as the credits list. The idea is that every grade corresponds to a course that gave the student a certain amount of credits.\n",
    "3. Append grade and credit: given a grade, and credits attached to the grade, append both to each respective place.\n",
    "\n",
    "Test your function with a toy student of your choice."
   ]
  },
  {
   "cell_type": "code",
   "execution_count": 29,
   "metadata": {},
   "outputs": [],
   "source": [
    "# Your answer here\n",
    "class Student:\n",
    "    def __init__(self, id_num, firstName, lastName, grade, credit, major):\n",
    "        self.id_num = id_num\n",
    "        self.firstName = firstName\n",
    "        self.lastName = lastName\n",
    "        self.grade = grade\n",
    "        self.credit = credit\n",
    "        self.major = major\n",
    "        \n",
    "    def __str__(self):        \n",
    "        string = \"\"\"\n",
    "Student:\n",
    "    Id: {a}\n",
    "    Name: {b}, {c}\n",
    "    Major: {d}\"\"\".format(a = self.id_num, b = self.firstName, c = self.lastName, d = self.major)\n",
    "        return string\n",
    "    \n",
    "    def __repr__(self):\n",
    "        \n",
    "        return 'Student(' + self.firstName + \", \" + self.lastName + \", \" + str(self.id_num) + ')'\n",
    "    \n",
    "    def classes(self):\n",
    "        id_str = str(self.id_num)\n",
    "        if len(id_str) != 5 or id_str[0] != \"1\":\n",
    "            raise ValueError('Error. Invalid ID number')\n",
    "        if len(self.grade) != len(self.credit):\n",
    "            raise ValueError('Error. Grade and credit not conform')\n",
    "            \n",
    "        out = []\n",
    "        for i in range(len(self.grade)):\n",
    "            temp = []\n",
    "            temp.append(\"Grade: \" + str(self.grade[i]) + \", Credit: \" + str(self.credit[i]))\n",
    "            out.append(temp)\n",
    "            \n",
    "        return out"
   ]
  },
  {
   "cell_type": "code",
   "execution_count": 36,
   "metadata": {},
   "outputs": [],
   "source": [
    "stu = Student(12345, 'Harry', 'Chen', [93, 97, 89], [3, 4, 3], 'Quantitatice Science')"
   ]
  },
  {
   "cell_type": "code",
   "execution_count": 31,
   "metadata": {},
   "outputs": [
    {
     "name": "stdout",
     "output_type": "stream",
     "text": [
      "[['Grade: 93, Credit: 3'], ['Grade: 97, Credit: 4'], ['Grade: 89, Credit: 3']]\n"
     ]
    }
   ],
   "source": [
    "print(stu.classes())"
   ]
  },
  {
   "cell_type": "markdown",
   "metadata": {},
   "source": [
    "\n",
    "***\n",
    "\n",
    "### Question 4\n",
    "\n",
    "Create a module in the class Student that computes the unweighted average of the student's grades."
   ]
  },
  {
   "cell_type": "code",
   "execution_count": 43,
   "metadata": {},
   "outputs": [],
   "source": [
    "# Your answer here\n",
    "class Student:\n",
    "    def __init__(self, id_num, firstName, lastName, grade, credit, major):\n",
    "        self.id_num = id_num\n",
    "        self.firstName = firstName\n",
    "        self.lastName = lastName\n",
    "        self.grade = grade\n",
    "        self.credit = credit\n",
    "        self.major = major\n",
    "        \n",
    "    def __str__(self):        \n",
    "        string = \"\"\"\n",
    "Student:\n",
    "    Id: {a}\n",
    "    Name: {b}, {c}\n",
    "    Major: {d}\"\"\".format(a = self.id_num, b = self.firstName, c = self.lastName, d = self.major)\n",
    "        return string\n",
    "    \n",
    "    def __repr__(self):\n",
    "        \n",
    "        return 'Student(' + self.firstName + \", \" + self.lastName + \", \" + str(self.id_num) + ')'\n",
    "    \n",
    "    def classes(self):\n",
    "        id_str = str(self.id_num)\n",
    "        if len(id_str) != 5 or id_str[0] != \"1\":\n",
    "            raise ValueError('Error. Invalid ID number')\n",
    "        if len(self.grade) != len(self.credit):\n",
    "            raise ValueError('Error. Grade and credit not conform')\n",
    "            \n",
    "        out = []\n",
    "        for i in range(len(self.grade)):\n",
    "            temp = []\n",
    "            temp.append(\"Grade: \" + str(self.grade[i]) + \", Credit: \" + str(self.credit[i]))\n",
    "            out.append(temp)\n",
    "            \n",
    "        return out\n",
    "    \n",
    "    def avg(self):\n",
    "        \n",
    "        return sum(self.grade) / len(self.grade)"
   ]
  },
  {
   "cell_type": "code",
   "execution_count": 44,
   "metadata": {},
   "outputs": [],
   "source": [
    "stu = Student(12345, 'Harry', 'Chen', [93, 97, 89], [3, 4, 3], 'Quantitatice Science')"
   ]
  },
  {
   "cell_type": "code",
   "execution_count": 45,
   "metadata": {},
   "outputs": [
    {
     "data": {
      "text/plain": [
       "93.0"
      ]
     },
     "execution_count": 45,
     "metadata": {},
     "output_type": "execute_result"
    }
   ],
   "source": [
    "stu.avg()"
   ]
  },
  {
   "cell_type": "markdown",
   "metadata": {},
   "source": [
    "\n",
    "***\n",
    "\n",
    "### Question 5\n",
    "\n",
    "Create a module in the class Student that computes the weighted average of the student's grades, weighted by the credits."
   ]
  },
  {
   "cell_type": "code",
   "execution_count": 50,
   "metadata": {},
   "outputs": [],
   "source": [
    "# Your answer here\n",
    "# Your answer here\n",
    "class Student:\n",
    "    def __init__(self, id_num, firstName, lastName, grade, credit, major):\n",
    "        self.id_num = id_num\n",
    "        self.firstName = firstName\n",
    "        self.lastName = lastName\n",
    "        self.grade = grade\n",
    "        self.credit = credit\n",
    "        self.major = major\n",
    "        \n",
    "    def __str__(self):        \n",
    "        string = \"\"\"\n",
    "Student:\n",
    "    Id: {a}\n",
    "    Name: {b}, {c}\n",
    "    Major: {d}\"\"\".format(a = self.id_num, b = self.firstName, c = self.lastName, d = self.major)\n",
    "        return string\n",
    "    \n",
    "    def __repr__(self):\n",
    "        \n",
    "        return 'Student(' + self.firstName + \", \" + self.lastName + \", \" + str(self.id_num) + ')'\n",
    "    \n",
    "    def classes(self):\n",
    "        id_str = str(self.id_num)\n",
    "        if len(id_str) != 5 or id_str[0] != \"1\":\n",
    "            raise ValueError('Error. Invalid ID number')\n",
    "        if len(self.grade) != len(self.credit):\n",
    "            raise ValueError('Error. Grade and credit not conform')\n",
    "            \n",
    "        out = []\n",
    "        for i in range(len(self.grade)):\n",
    "            temp = []\n",
    "            temp.append(\"Grade: \" + str(self.grade[i]) + \", Credit: \" + str(self.credit[i]))\n",
    "            out.append(temp)\n",
    "            \n",
    "        return out\n",
    "    \n",
    "    def avg(self):\n",
    "\n",
    "        return sum(self.grade) / len(self.grade)\n",
    "    \n",
    "    def weighted_avg(self):\n",
    "        out = 0\n",
    "        totalCredit = sum(self.credit)\n",
    "        \n",
    "        if len(self.grade) != len(self.credit):\n",
    "            raise ValueError('Error. Grade and credit not conform')\n",
    "        for i in range(len(self.grade)):\n",
    "            weight = self.credit[i] / totalCredit\n",
    "            weightedGrade = self.grade[i] * weight\n",
    "            out += weightedGrade\n",
    "        return out\n",
    "        "
   ]
  },
  {
   "cell_type": "code",
   "execution_count": 51,
   "metadata": {},
   "outputs": [],
   "source": [
    "stu = Student(12345, 'Harry', 'Chen', [93, 97, 89], [3, 4, 3], 'Quantitatice Science')"
   ]
  },
  {
   "cell_type": "code",
   "execution_count": 52,
   "metadata": {},
   "outputs": [
    {
     "data": {
      "text/plain": [
       "93.4"
      ]
     },
     "execution_count": 52,
     "metadata": {},
     "output_type": "execute_result"
    }
   ],
   "source": [
    "stu.weighted_avg()"
   ]
  },
  {
   "cell_type": "markdown",
   "metadata": {},
   "source": [
    "**That's all, folks!**"
   ]
  }
 ],
 "metadata": {
  "kernelspec": {
   "display_name": "Python 3",
   "language": "python",
   "name": "python3"
  },
  "language_info": {
   "codemirror_mode": {
    "name": "ipython",
    "version": 3
   },
   "file_extension": ".py",
   "mimetype": "text/x-python",
   "name": "python",
   "nbconvert_exporter": "python",
   "pygments_lexer": "ipython3",
   "version": "3.8.5"
  }
 },
 "nbformat": 4,
 "nbformat_minor": 4
}
